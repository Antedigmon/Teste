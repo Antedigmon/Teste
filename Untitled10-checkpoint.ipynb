{
 "cells": [
  {
   "cell_type": "code",
   "execution_count": null,
   "metadata": {},
   "outputs": [
    {
     "name": "stderr",
     "output_type": "stream",
     "text": [
      "C:\\Users\\ricar\\Anaconda3\\lib\\importlib\\_bootstrap.py:219: RuntimeWarning: numpy.ufunc size changed, may indicate binary incompatibility. Expected 112 from C header, got 124 from PyObject\n",
      "  return f(*args, **kwds)\n"
     ]
    },
    {
     "data": {
      "application/javascript": [
       "if (typeof Jupyter !== \"undefined\") {require.undef(\"nbextensions/vpython_libraries/glow.min\");}else{element.textContent = ' ';}"
      ],
      "text/plain": [
       "<IPython.core.display.Javascript object>"
      ]
     },
     "metadata": {},
     "output_type": "display_data"
    },
    {
     "data": {
      "application/javascript": [
       "if (typeof Jupyter !== \"undefined\") {require.undef(\"nbextensions/vpython_libraries/glowcomm\");}else{element.textContent = ' ';}"
      ],
      "text/plain": [
       "<IPython.core.display.Javascript object>"
      ]
     },
     "metadata": {},
     "output_type": "display_data"
    },
    {
     "data": {
      "application/javascript": [
       "if (typeof Jupyter !== \"undefined\") {require.undef(\"nbextensions/vpython_libraries/jquery-ui.custom.min\");}else{element.textContent = ' ';}"
      ],
      "text/plain": [
       "<IPython.core.display.Javascript object>"
      ]
     },
     "metadata": {},
     "output_type": "display_data"
    },
    {
     "data": {
      "application/javascript": [
       "if (typeof Jupyter !== \"undefined\") {require([\"nbextensions/vpython_libraries/glow.min\"], function(){console.log(\"GLOW LOADED\");});}else{element.textContent = ' ';}"
      ],
      "text/plain": [
       "<IPython.core.display.Javascript object>"
      ]
     },
     "metadata": {},
     "output_type": "display_data"
    },
    {
     "data": {
      "application/javascript": [
       "if (typeof Jupyter !== \"undefined\") {require([\"nbextensions/vpython_libraries/glowcomm\"], function(){console.log(\"GLOWCOMM LOADED\");});}else{element.textContent = ' ';}"
      ],
      "text/plain": [
       "<IPython.core.display.Javascript object>"
      ]
     },
     "metadata": {},
     "output_type": "display_data"
    },
    {
     "data": {
      "application/javascript": [
       "if (typeof Jupyter !== \"undefined\") {require([\"nbextensions/vpython_libraries/jquery-ui.custom.min\"], function(){console.log(\"JQUERY LOADED\");});}else{element.textContent = ' ';}"
      ],
      "text/plain": [
       "<IPython.core.display.Javascript object>"
      ]
     },
     "metadata": {},
     "output_type": "display_data"
    },
    {
     "data": {
      "text/html": [
       "<div id=\"glowscript\" class=\"glowscript\"></div>"
      ],
      "text/plain": [
       "<IPython.core.display.HTML object>"
      ]
     },
     "metadata": {},
     "output_type": "display_data"
    },
    {
     "data": {
      "application/javascript": [
       "if (typeof Jupyter !== \"undefined\") { window.__context = { glowscript_container: $(\"#glowscript\").removeAttr(\"id\")};}else{ element.textContent = ' ';}"
      ],
      "text/plain": [
       "<IPython.core.display.Javascript object>"
      ]
     },
     "metadata": {},
     "output_type": "display_data"
    },
    {
     "data": {
      "text/html": [
       "<div id=\"glowscript\" class=\"glowscript\"></div>"
      ],
      "text/plain": [
       "<IPython.core.display.HTML object>"
      ]
     },
     "metadata": {},
     "output_type": "display_data"
    },
    {
     "data": {
      "application/javascript": [
       "if (typeof Jupyter !== \"undefined\") { window.__context = { glowscript_container: $(\"#glowscript\").removeAttr(\"id\")};}else{ element.textContent = ' ';}"
      ],
      "text/plain": [
       "<IPython.core.display.Javascript object>"
      ]
     },
     "metadata": {},
     "output_type": "display_data"
    }
   ],
   "source": [
    "from random import randint\n",
    "from numpy import arange, zeros\n",
    "from pylab import show,plot,xlabel,ylabel\n",
    "from vpython import sphere, vector, canvas, color, rate,box,canvas\n",
    "\n",
    "\n",
    "L = 50    #Número par\n",
    "Lx,Ly,Lz = L, L, L\n",
    "tela = canvas(title=\"Um movimento aí\", width = 500, height = 500,background = color.orange)        \n",
    "#Criando a grade\n",
    "#P1 = box(pos = vector(Lx+1,51,0),size = vector(1,Ly+2,1))     #Esquerda\n",
    "#P2 = box(pos = vector(0,51,0),size = vector(1,Ly+2,1))     #Direita\n",
    "#P3 = box(pos = vector(51,Ly+1,0),size = vector(Lx+2,1,1))     #Cima\n",
    "#P4 = box(pos = vector(51,0,0),size = vector(Lx+2,1,1))     #Baixo\n",
    "                \n",
    "#Criando a partícula inicial\n",
    "xi,yi,zi = Lx/2,Ly/2,Lz/2\n",
    "A1 = sphere(pos=vector(xi,yi,zi),radius = 1.0,color = color.blue)  \n",
    "\n",
    "N = 600\n",
    "V = []\n",
    "Vx = []\n",
    "Vy = []\n",
    "Vz = []\n",
    "A = zeros([Lx,Ly,Lz],int)\n",
    "\n",
    "def solid(vx,vy,vz):     #Função de solidificação\n",
    "    for i in range(vx-1,vx+2):\n",
    "        for m in range(vy-1,vy+2):\n",
    "            for k in range(vz-1,vz+2):\n",
    "                A[i][m][k] = 1\n",
    "\n",
    "for i in range(N):\n",
    "        rate(30)\n",
    "        vx = randint(1,Lx-1)\n",
    "        vy = randint(1,Ly-1)\n",
    "        vz = randint(1,Lz-1)\n",
    "        Vx.append(vx)\n",
    "        Vy.append(vy)\n",
    "        Vz.append(vz)\n",
    "        V.append(sphere(pos=vector(vx,vy,vz),radius = 1.0))\n",
    "\n",
    "for i in range(int(Lx/2-1),int(Lx/2+2)):\n",
    "    for j in range(int(Ly/2-1),int(Ly/2+2)):\n",
    "        for k in range(int(Lz/2-1),int(Lz/2+2)):\n",
    "            A[i][j][k] = 1\n",
    "        \n",
    "for t in range(10**6):\n",
    "    rate(400)\n",
    "    for j in range(N):\n",
    "        if (A[Vx[j]][Vy[j]][Vz[j]] == 0):\n",
    "            n = randint(0,5)\n",
    "            if n == 0 and Vx[j]<Lx-1:    #Andar para a direita\n",
    "                 Vx[j]+=1\n",
    "            elif n == 1 and Vx[j]>1:    #Andar para a esquerda\n",
    "                 Vx[j]-=1\n",
    "            elif n == 2 and Vy[j]<Ly-1:    #Andar para cima\n",
    "                 Vy[j]+=1\n",
    "            elif n == 3 and Vy[j]>1:    #Andar para baixo\n",
    "                 Vy[j]-=1\n",
    "            elif n == 4 and Vz[j]<Lz-1:    #Andar para frente\n",
    "                 Vz[j]+=1\n",
    "            elif n == 5 and Vz[j]>1:    #Andar para trás\n",
    "                 Vz[j]-=1\n",
    "            V[j].pos = vector(Vx[j],Vy[j],Vz[j])\n",
    "        else:\n",
    "            solid(Vx[j],Vy[j],Vz[j])"
   ]
  },
  {
   "cell_type": "code",
   "execution_count": null,
   "metadata": {},
   "outputs": [],
   "source": []
  }
 ],
 "metadata": {
  "kernelspec": {
   "display_name": "Python 3",
   "language": "python",
   "name": "python3"
  },
  "language_info": {
   "codemirror_mode": {
    "name": "ipython",
    "version": 3
   },
   "file_extension": ".py",
   "mimetype": "text/x-python",
   "name": "python",
   "nbconvert_exporter": "python",
   "pygments_lexer": "ipython3",
   "version": "3.6.8"
  }
 },
 "nbformat": 4,
 "nbformat_minor": 2
}
